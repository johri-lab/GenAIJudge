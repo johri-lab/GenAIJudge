{
 "cells": [
  {
   "cell_type": "code",
   "execution_count": 1,
   "id": "4eb714a9",
   "metadata": {},
   "outputs": [
    {
     "name": "stdout",
     "output_type": "stream",
     "text": [
      "WARNING:tensorflow:From C:\\Users\\akshi\\anaconda3\\Lib\\site-packages\\keras\\src\\losses.py:2976: The name tf.losses.sparse_softmax_cross_entropy is deprecated. Please use tf.compat.v1.losses.sparse_softmax_cross_entropy instead.\n",
      "\n"
     ]
    }
   ],
   "source": [
    "import os\n",
    "import pandas as pd\n",
    "import numpy as np\n",
    "import tensorflow as tf\n",
    "from tensorboard.plugins import projector\n",
    "from sentence_transformers import SentenceTransformer"
   ]
  },
  {
   "cell_type": "code",
   "execution_count": 2,
   "id": "1b050367",
   "metadata": {},
   "outputs": [],
   "source": [
    "# Read dataset\n",
    "proposals = pd.read_csv(\"dataset.csv\", encoding=\"latin-1\")"
   ]
  },
  {
   "cell_type": "code",
   "execution_count": 3,
   "id": "f430725e",
   "metadata": {},
   "outputs": [],
   "source": [
    "# Stitch problem and solution\n",
    "proposals[\"problem_solution\"] = \"Problem: \" + proposals[\"problem\"] + \"\\nSolution: \" + proposals[\"solution\"] "
   ]
  },
  {
   "cell_type": "code",
   "execution_count": 4,
   "id": "ec0faa2f",
   "metadata": {},
   "outputs": [],
   "source": [
    "# Encode problem-solution text\n",
    "model = SentenceTransformer('all-MiniLM-L6-v2')\n",
    "\n",
    "sentences = proposals[\"problem_solution\"].tolist()\n",
    "\n",
    "embeddings = model.encode(sentences)"
   ]
  },
  {
   "cell_type": "code",
   "execution_count": 5,
   "id": "1a938c6b",
   "metadata": {},
   "outputs": [
    {
     "data": {
      "text/plain": [
       "array([[-0.05735937,  0.01484988, -0.00389303, ..., -0.03956553,\n",
       "         0.09735272, -0.03836142],\n",
       "       [-0.07917185,  0.11348645,  0.0509224 , ..., -0.0411661 ,\n",
       "        -0.04118628,  0.02412531],\n",
       "       [-0.05354699,  0.05007074, -0.01066663, ..., -0.12300329,\n",
       "        -0.0761971 ,  0.00527502],\n",
       "       ...,\n",
       "       [-0.02701267,  0.01422018,  0.00639625, ..., -0.03266954,\n",
       "         0.00028772, -0.09036349],\n",
       "       [-0.08481316,  0.08431742,  0.03225553, ..., -0.07002679,\n",
       "         0.02056553,  0.03197028],\n",
       "       [-0.05189255,  0.02621674, -0.02884698, ..., -0.14218749,\n",
       "        -0.03502588, -0.00576854]], dtype=float32)"
      ]
     },
     "execution_count": 5,
     "metadata": {},
     "output_type": "execute_result"
    }
   ],
   "source": [
    "embeddings"
   ]
  },
  {
   "cell_type": "code",
   "execution_count": 6,
   "id": "c17635d9",
   "metadata": {},
   "outputs": [
    {
     "name": "stdout",
     "output_type": "stream",
     "text": [
      "There are 1300 proposals.\n"
     ]
    }
   ],
   "source": [
    "num_proposals = embeddings.shape[0]\n",
    "print(f\"There are {num_proposals} proposals.\")"
   ]
  },
  {
   "cell_type": "code",
   "execution_count": 7,
   "id": "17b01c62",
   "metadata": {},
   "outputs": [],
   "source": [
    "# Set up a logs directory, so Tensorboard knows where to look for files.\n",
    "log_dir='/logs/imdb-example/'\n",
    "if not os.path.exists(log_dir):\n",
    "    os.makedirs(log_dir)\n",
    "\n",
    "# Save Labels separately on a line-by-line manner.\n",
    "with open(os.path.join(log_dir, 'metadata.tsv'), \"w\") as f:\n",
    "    for i in range(1, num_proposals+1):\n",
    "        f.write(f\"Proposal {i}\\n\")\n",
    "\n",
    "# Save embedding as a checkpoint\n",
    "weights = tf.Variable(embeddings)\n",
    "checkpoint = tf.train.Checkpoint(embedding=weights)\n",
    "checkpoint.save(os.path.join(log_dir, \"embedding.ckpt\"))\n",
    "\n",
    "# Set up config.\n",
    "config = projector.ProjectorConfig()\n",
    "embedding = config.embeddings.add()\n",
    "# The name of the tensor will be suffixed by `/.ATTRIBUTES/VARIABLE_VALUE`.\n",
    "embedding.tensor_name = \"embedding/.ATTRIBUTES/VARIABLE_VALUE\"\n",
    "embedding.metadata_path = 'metadata.tsv'\n",
    "projector.visualize_embeddings(log_dir, config)"
   ]
  },
  {
   "cell_type": "code",
   "execution_count": 8,
   "id": "a6e7e1a7",
   "metadata": {},
   "outputs": [
    {
     "name": "stdout",
     "output_type": "stream",
     "text": [
      "Running on port 8576\n"
     ]
    }
   ],
   "source": [
    "port = np.random.randint(8000, 9999)\n",
    "print(f\"Running on port {port}\")"
   ]
  },
  {
   "cell_type": "code",
   "execution_count": 9,
   "id": "7a6724e3",
   "metadata": {},
   "outputs": [
    {
     "data": {
      "text/html": [
       "\n",
       "      <iframe id=\"tensorboard-frame-6fd80356294b44e8\" width=\"100%\" height=\"800\" frameborder=\"0\">\n",
       "      </iframe>\n",
       "      <script>\n",
       "        (function() {\n",
       "          const frame = document.getElementById(\"tensorboard-frame-6fd80356294b44e8\");\n",
       "          const url = new URL(\"/\", window.location);\n",
       "          const port = 8576;\n",
       "          if (port) {\n",
       "            url.port = port;\n",
       "          }\n",
       "          frame.src = url;\n",
       "        })();\n",
       "      </script>\n",
       "    "
      ],
      "text/plain": [
       "<IPython.core.display.HTML object>"
      ]
     },
     "metadata": {},
     "output_type": "display_data"
    }
   ],
   "source": [
    "%load_ext tensorboard\n",
    "%tensorboard --logdir=$log_dir --port=$port"
   ]
  },
  {
   "cell_type": "code",
   "execution_count": null,
   "id": "d30b1ed8",
   "metadata": {},
   "outputs": [],
   "source": []
  }
 ],
 "metadata": {
  "kernelspec": {
   "display_name": "Python 3 (ipykernel)",
   "language": "python",
   "name": "python3"
  },
  "language_info": {
   "codemirror_mode": {
    "name": "ipython",
    "version": 3
   },
   "file_extension": ".py",
   "mimetype": "text/x-python",
   "name": "python",
   "nbconvert_exporter": "python",
   "pygments_lexer": "ipython3",
   "version": "3.11.4"
  }
 },
 "nbformat": 4,
 "nbformat_minor": 5
}
